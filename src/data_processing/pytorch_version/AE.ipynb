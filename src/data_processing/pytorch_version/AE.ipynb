{
 "cells": [
  {
   "cell_type": "code",
   "execution_count": 1,
   "id": "ad32acbd-38dc-46ba-8fb9-9cdca5cfb6e4",
   "metadata": {},
   "outputs": [
    {
     "name": "stdout",
     "output_type": "stream",
     "text": [
      "cuda\n"
     ]
    }
   ],
   "source": [
    "import torch\n",
    "import torch.nn as nn\n",
    "import torch.nn.functional as F\n",
    "import torch.optim as optim\n",
    "import torch.backends.cudnn\n",
    "\n",
    "import torchvision\n",
    "import torchvision.transforms as transforms\n",
    "\n",
    "import pandas as pd\n",
    "from sklearn.model_selection import ShuffleSplit\n",
    "\n",
    "import matplotlib.pyplot as plt\n",
    "import numpy as np\n",
    "import os\n",
    "from time import sleep\n",
    "\n",
    "from torch.utils.tensorboard import SummaryWriter\n",
    "from IPython.display import clear_output\n",
    "\n",
    "device = torch.device('cuda' if torch.cuda.is_available() else 'cpu')\n",
    "print(device)\n",
    "\n",
    "BATCH_SIZE = 32\n",
    "RANDOM_SEED = 123"
   ]
  },
  {
   "cell_type": "code",
   "execution_count": 2,
   "id": "5ea67031-5374-44af-82c6-d3c5be21933b",
   "metadata": {},
   "outputs": [],
   "source": [
    "# Build dataset from csv files\n",
    "class AwareDataset(torch.utils.data.Dataset):\n",
    "    def __init__(self, csv_data, csv_outcome, csv_verbose, root_dir, train=True, target_classes=None, transform=None):\n",
    "        self.data_raw = pd.read_csv(csv_data, header=None)\n",
    "        self.data_out = pd.read_csv(csv_outcome)\n",
    "        self.data_verb = pd.read_csv(csv_verbose)\n",
    "        self.root_dir = root_dir\n",
    "        self.transform = transform\n",
    "        \n",
    "        if target_classes != None:\n",
    "            idx = False\n",
    "            for i in target_classes:\n",
    "                idx |= (self.data_out.Diagnosis==i)\n",
    "            self.data_raw = self.data_raw[idx]\n",
    "            self.data_out = self.data_out[idx]\n",
    "            self.data_verb = self.data_verb[idx]\n",
    "        \n",
    "        if len(self.data_raw) != len(self.data_out) or len(self.data_raw) != len(self.data_verb):\n",
    "            raise Exception(\"Inconsistent data length\")\n",
    "            \n",
    "        idx = list(range(0,len(self.data_raw)))\n",
    "        rs = ShuffleSplit(n_splits=1, test_size=0.2, random_state=RANDOM_SEED)\n",
    "        train_idx, test_idx = next(rs.split(idx))\n",
    "        if train:\n",
    "            self.data_raw = self.data_raw.iloc[train_idx]\n",
    "            self.data_out = self.data_out.iloc[train_idx]\n",
    "            self.data_verb = self.data_verb.iloc[train_idx]\n",
    "        else:\n",
    "            self.data_raw = self.data_raw.iloc[test_idx]\n",
    "            self.data_out = self.data_out.iloc[test_idx]\n",
    "            self.data_verb = self.data_verb.iloc[test_idx]\n",
    "\n",
    "    def __len__(self):\n",
    "        return len(self.data_raw)\n",
    "\n",
    "    \n",
    "    def __getitem__(self, idx):\n",
    "        if torch.is_tensor(idx):\n",
    "            idx = idx.tolist()\n",
    "        \n",
    "        data = self.data_raw.iloc[idx, 34:118].values.astype('float32')\n",
    "        data = (data-np.mean(data))/np.std(data)\n",
    "        target = self.data_out.iloc[idx, :].values.astype('float32')\n",
    "        verbose = self.data_verb.iloc[idx, :].values.astype('float32')\n",
    "\n",
    "        return data, target, verbose\n",
    "\n",
    "\n",
    "trainset = AwareDataset(csv_data = 'data/exhale_data_v5_ave.csv',\n",
    "                        csv_outcome = 'data/exhale_outcome_v5_ave.csv',\n",
    "                        csv_verbose = 'data/exhale_verbose_v5_ave.csv',\n",
    "                        root_dir = 'data/',\n",
    "                        train = True,\n",
    "                        target_classes = [1,2])\n",
    "trainloader = torch.utils.data.DataLoader(trainset, batch_size=BATCH_SIZE,\n",
    "                                          shuffle=True, num_workers=2)\n",
    "\n",
    "testset = AwareDataset(csv_data = 'data/exhale_data_v5_ave.csv',\n",
    "                       csv_outcome = 'data/exhale_outcome_v5_ave.csv',\n",
    "                       csv_verbose = 'data/exhale_verbose_v5_ave.csv',\n",
    "                       root_dir = 'data/',\n",
    "                       train = False,\n",
    "                       target_classes = [1,2])\n",
    "testloader = torch.utils.data.DataLoader(testset, batch_size=BATCH_SIZE,\n",
    "                                         shuffle=True, num_workers=2)\n",
    "\n",
    "# dataiter = iter(trainloader)\n",
    "# inputs, labels, info = dataiter.next()\n",
    "# print(inputs.size())\n",
    "# print(labels[0])\n",
    "# plt.plot(inputs[0])\n",
    "# plt.ylim([-5,5])"
   ]
  },
  {
   "cell_type": "code",
   "execution_count": 3,
   "id": "cbc00a66-94fd-47ee-9b33-cea7e4be4f72",
   "metadata": {},
   "outputs": [
    {
     "name": "stdout",
     "output_type": "stream",
     "text": [
      "Net(\n",
      "  (encoder): Sequential(\n",
      "    (0): Linear(in_features=84, out_features=100, bias=True)\n",
      "    (1): ReLU()\n",
      "    (2): Linear(in_features=100, out_features=48, bias=True)\n",
      "    (3): ReLU()\n",
      "    (4): Linear(in_features=48, out_features=48, bias=True)\n",
      "  )\n",
      "  (decoder): Sequential(\n",
      "    (0): Linear(in_features=48, out_features=48, bias=True)\n",
      "    (1): ReLU()\n",
      "    (2): Linear(in_features=48, out_features=100, bias=True)\n",
      "    (3): ReLU()\n",
      "    (4): Linear(in_features=100, out_features=84, bias=True)\n",
      "  )\n",
      ")\n"
     ]
    }
   ],
   "source": [
    "from models.AE import Net\n",
    "model = Net()\n",
    "print(model)\n",
    "model.to(device)\n",
    "if device == 'cuda':\n",
    "    model = torch.nn.DataParallel(model)\n",
    "    cudnn.benchmark = True"
   ]
  },
  {
   "cell_type": "code",
   "execution_count": 4,
   "id": "458befbd-8922-4019-ac15-c77e6cc38e0c",
   "metadata": {},
   "outputs": [],
   "source": [
    "best_acc = 0  # best test accuracy\n",
    "\n",
    "criterion = nn.MSELoss()\n",
    "optimizer = optim.Adam(model.parameters(), lr=0.002)\n",
    "# scheduler = torch.optim.lr_scheduler.CosineAnnealingLR(optimizer, T_max=200)\n",
    "\n",
    "writer = SummaryWriter()\n",
    "\n",
    "def train(epoch):\n",
    "#     clear_output(wait=False)\n",
    "    print('Epoch: %d | TRAIN' % epoch)\n",
    "    model.train()\n",
    "    train_loss = 0\n",
    "    train_correct = 0\n",
    "    total = 0\n",
    "    for batch_idx, (inputs, labels, info) in enumerate(trainloader):\n",
    "        inputs = inputs.to(device)\n",
    "        optimizer.zero_grad()\n",
    "#         inputs_prep = F.dropout(inputs, p=0.2)*0.8  # Random zeroing\n",
    "        outputs = model(inputs)\n",
    "#         outputs = model(inputs_prep)\n",
    "        loss = criterion(outputs, inputs)\n",
    "        loss.backward()\n",
    "        optimizer.step()\n",
    "\n",
    "        train_loss += loss.item()\n",
    "        total += labels.size(0)\n",
    "        \n",
    "        print('Batch: %d/%d | Loss: %.3f'\n",
    "              % (batch_idx+1, len(trainloader), train_loss/(batch_idx+1)), end='\\r')\n",
    "        \n",
    "    writer.add_scalar('Loss/train', train_loss/(batch_idx+1), epoch)\n",
    "        \n",
    "def test(epoch):\n",
    "    global best_loss\n",
    "    best_loss = 1e8\n",
    "    clear_output(wait=False)\n",
    "    print('Epoch: %d | TEST' % epoch)\n",
    "    model.eval()\n",
    "    test_loss = 0\n",
    "    test_correct = 0\n",
    "    total = 0\n",
    "    with torch.no_grad():\n",
    "        for batch_idx, (inputs, labels, info) in enumerate(testloader):\n",
    "            inputs = inputs.to(device)\n",
    "            outputs = model(inputs)\n",
    "            loss = criterion(outputs, inputs)\n",
    "            \n",
    "            test_loss += loss.item()\n",
    "            total += labels.size(0)\n",
    "            \n",
    "            print('Batch: %d/%d | Loss: %.3f'\n",
    "                  % (batch_idx+1, len(testloader), test_loss/(batch_idx+1)), end='\\r')\n",
    "        \n",
    "    writer.add_scalar('Loss/test', test_loss/(batch_idx+1), epoch)\n",
    "    \n",
    "    # Save checkpoint.\n",
    "    current_loss = test_loss/(batch_idx+1)\n",
    "    if current_loss < best_loss:\n",
    "        print('Saving.. | Loss: %.3f\\n' % current_loss)\n",
    "        state = {\n",
    "            'net': model.state_dict(),\n",
    "            'loss': current_loss,\n",
    "            'epoch': epoch,\n",
    "        }\n",
    "        if not os.path.isdir('checkpoint'):\n",
    "            os.mkdir('checkpoint')\n",
    "        torch.save(state, './checkpoint/ckpt.pth')\n",
    "        best_loss = current_loss"
   ]
  },
  {
   "cell_type": "code",
   "execution_count": 5,
   "id": "0e29f750-af9d-4e10-8e7b-fbe5ad2f778b",
   "metadata": {},
   "outputs": [
    {
     "name": "stdout",
     "output_type": "stream",
     "text": [
      "Epoch: 199 | TEST\n",
      "Saving.. | Loss: 0.02424\n",
      "\n"
     ]
    }
   ],
   "source": [
    "for epoch in range(200):\n",
    "    train(epoch)\n",
    "    test(epoch)\n",
    "#     scheduler.step()\n",
    "\n",
    "os.rename('./checkpoint/ckpt.pth', f'./checkpoint/ckpt_{best_loss:.2f}.pth')"
   ]
  },
  {
   "cell_type": "code",
   "execution_count": 6,
   "id": "a29990cd-809a-40b4-9d1b-70eb1c1b5468",
   "metadata": {},
   "outputs": [
    {
     "name": "stdout",
     "output_type": "stream",
     "text": [
      "\n",
      "\n"
     ]
    },
    {
     "data": {
      "image/png": "[encoded data removed]",
      "text/plain": [
       "<Figure size 432x288 with 1 Axes>"
      ]
     },
     "metadata": {
      "needs_background": "light"
     },
     "output_type": "display_data"
    },
    {
     "data": {
      "image/png": "[encoded data removed]",
      "text/plain": [
       "<Figure size 432x288 with 1 Axes>"
      ]
     },
     "metadata": {
      "needs_background": "light"
     },
     "output_type": "display_data"
    },
    {
     "data": {
      "image/png": "[encoded data removed]",
      "text/plain": [
       "<Figure size 432x288 with 1 Axes>"
      ]
     },
     "metadata": {
      "needs_background": "light"
     },
     "output_type": "display_data"
    }
   ],
   "source": [
    "with torch.no_grad():\n",
    "    dataiter = iter(testloader)\n",
    "    inputs, labels, info = dataiter.next()\n",
    "    inputs = inputs.to(device)\n",
    "    inputs_prep = F.dropout(inputs, p=0.2)*0.8  # Random zeroing\n",
    "    outputs = model(inputs)\n",
    "#     outputs = model(inputs_prep)\n",
    "    print('\\n')\n",
    "    plt.plot(inputs[0].cpu().numpy())\n",
    "    plt.plot(inputs_prep[0].cpu().numpy())\n",
    "    plt.plot(outputs[0].cpu().numpy())\n",
    "    plt.ylim([-5,5])\n",
    "    plt.show()\n",
    "    \n",
    "    plt.plot(inputs[1].cpu().numpy())\n",
    "    plt.plot(inputs_prep[1].cpu().numpy())\n",
    "    plt.plot(outputs[1].cpu().numpy())\n",
    "    plt.ylim([-5,5])\n",
    "    plt.show()\n",
    "    \n",
    "    plt.plot(inputs[2].cpu().numpy())\n",
    "    plt.plot(inputs_prep[2].cpu().numpy())\n",
    "    plt.plot(outputs[2].cpu().numpy())\n",
    "    plt.ylim([-5,5])\n",
    "    plt.show()\n",
    "    \n",
    "encoder = model.encoder\n",
    "state = {\n",
    "    'net': encoder.state_dict(),\n",
    "    'loss': best_loss,\n",
    "    'epoch': epoch,\n",
    "}\n",
    "torch.save(state, f'./checkpoint/encoder_{best_loss:.2f}.pth')"
   ]
  },
  {
   "cell_type": "code",
   "execution_count": 7,
   "id": "d22aef59-8972-481e-8d34-db3b70d20170",
   "metadata": {},
   "outputs": [
    {
     "data": {
      "text/plain": [
       "0.02415157699336608"
      ]
     },
     "execution_count": 7,
     "metadata": {},
     "output_type": "execute_result"
    }
   ],
   "source": [
    "best_loss"
   ]
  },
  {
   "cell_type": "code",
   "execution_count": 8,
   "id": "e3b8525a-2e4a-4cd2-a112-4573cfe7b92d",
   "metadata": {},
   "outputs": [
    {
     "name": "stdout",
     "output_type": "stream",
     "text": [
      "torch.Size([32, 84])\n",
      "torch.Size([32, 168])\n"
     ]
    }
   ],
   "source": [
    "print(inputs.size())\n",
    "tmp = torch.cat((inputs,inputs),1)\n",
    "print(tmp.size())"
   ]
  }
 ],
 "metadata": {
  "kernelspec": {
   "display_name": "Python 3 (ipykernel)",
   "language": "python",
   "name": "python3"
  },
  "language_info": {
   "codemirror_mode": {
    "name": "ipython",
    "version": 3
   },
   "file_extension": ".py",
   "mimetype": "text/x-python",
   "name": "python",
   "nbconvert_exporter": "python",
   "pygments_lexer": "ipython3",
   "version": "3.8.10"
  }
 },
 "nbformat": 4,
 "nbformat_minor": 5
}
